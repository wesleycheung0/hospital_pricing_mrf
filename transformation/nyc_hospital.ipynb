{
 "cells": [
  {
   "cell_type": "code",
   "execution_count": 1,
   "metadata": {},
   "outputs": [],
   "source": [
    "import pandas as pd"
   ]
  },
  {
   "cell_type": "code",
   "execution_count": 1,
   "metadata": {},
   "outputs": [],
   "source": [
    "from helper_function import metadata, misc"
   ]
  },
  {
   "cell_type": "code",
   "execution_count": 8,
   "metadata": {},
   "outputs": [
    {
     "name": "stderr",
     "output_type": "stream",
     "text": [
      "/var/folders/gq/f0m_7zn13nx9vghg_5vt_c700000gp/T/ipykernel_86771/3330031807.py:3: DtypeWarning: Columns (3,10,16,17) have mixed types. Specify dtype option on import or set low_memory=False.\n",
      "  data= pd.read_csv(data_path)\n"
     ]
    }
   ],
   "source": [
    "data_path = \"data/hospitcal_pricing/132655001_Kings County Hospital Center_standardcharges.csv.xls\"\n",
    "\n",
    "data= pd.read_csv(data_path)"
   ]
  },
  {
   "cell_type": "code",
   "execution_count": 9,
   "metadata": {},
   "outputs": [],
   "source": [
    "data_mini = data[0:1000]"
   ]
  },
  {
   "cell_type": "code",
   "execution_count": 10,
   "metadata": {},
   "outputs": [
    {
     "data": {
      "text/plain": [
       "array(['SUP', 'ERX', 'EAP', 'DRG'], dtype=object)"
      ]
     },
     "execution_count": 10,
     "metadata": {},
     "output_type": "execute_result"
    }
   ],
   "source": [
    "# List all the unique Code Type \n",
    "data[\"Code Type\"].unique()"
   ]
  },
  {
   "cell_type": "markdown",
   "metadata": {},
   "source": [
    "**The \"Code Type\" in medical billing and hospital data** often refers to different coding systems or categories used to classify medical procedures, supplies, prescriptions, and diagnoses. The abbreviations 'SUP', 'ERX', 'EAP', and 'DRG' each represent a specific type of code or category. Here’s a brief explanation of each:\n",
    "\n",
    "- **SUP (Supply):** This likely refers to codes related to medical supplies. These codes are used to identify and bill for medical supplies used during patient care, such as bandages, syringes, or medical devices.\n",
    "\n",
    "- **ERX (Electronic Prescription):** 'ERX' codes might be related to electronic prescriptions. This could involve coding used in the electronic transmission of prescription information, often between a healthcare provider and a pharmacy.\n",
    "\n",
    "- **EAP (Employee Assistance Program):** 'EAP' could refer to services or procedures related to Employee Assistance Programs. These programs often provide a variety of services to employees, including counseling, mental health services, and support for personal problems or work-related issues. However, it's less common to see EAP as a medical coding category, so this interpretation might vary based on specific healthcare organizational practices.\n",
    "\n",
    "- **DRG (Diagnosis-Related Group):** DRGs are a system of classification for hospital cases. They are used to categorize patients based on diagnoses, types of procedures performed, age, gender, and other criteria. DRGs are primarily used in inpatient settings and are a critical part of the Medicare reimbursement system. They help in determining how much Medicare pays the hospital for a patient's stay.\n",
    "\n",
    "Each of these code types serves a different purpose in the healthcare system, typically related to billing and categorization of services or products used in patient care. The specific use and meaning of these codes can vary depending on the healthcare provider's internal systems and the context in which they are used.\n",
    "\n",
    "---"
   ]
  },
  {
   "cell_type": "code",
   "execution_count": 11,
   "metadata": {},
   "outputs": [
    {
     "data": {
      "text/plain": [
       "Index(['Procedure', 'Code Type', 'Code', 'NDC', 'Rev Code',\n",
       "       'Procedure Description', 'Payer', 'Plan(s)', 'IP Price', 'OP Price',\n",
       "       'Discounted Cash Price', 'IP Negotiated Charge', 'OP Negotiated Charge',\n",
       "       'PB Negotiated Charge', 'De-Identified Minimum Negotiated Charge (IP)',\n",
       "       'De-Identified Maximum Negotiated Charge (IP)',\n",
       "       'De-Identified Minimum Negotiated Charge (OP)',\n",
       "       'De-Identified Maximum Negotiated Charge (OP)'],\n",
       "      dtype='object')"
      ]
     },
     "execution_count": 11,
     "metadata": {},
     "output_type": "execute_result"
    }
   ],
   "source": [
    "data.columns"
   ]
  },
  {
   "cell_type": "code",
   "execution_count": 12,
   "metadata": {},
   "outputs": [],
   "source": [
    "# List all pricing columns that need to be melted\n",
    "price_columns = [\n",
    "    'IP Price', 'OP Price', 'Discounted Cash Price', 'IP Negotiated Charge', \n",
    "    'OP Negotiated Charge', 'PB Negotiated Charge', \n",
    "    'De-Identified Minimum Negotiated Charge (IP)', \n",
    "    'De-Identified Maximum Negotiated Charge (IP)', \n",
    "    'De-Identified Minimum Negotiated Charge (OP)', \n",
    "    'De-Identified Maximum Negotiated Charge (OP)'\n",
    "]\n",
    "\n",
    "# Map 'Price_Type' to 'rate_category' and 'setting'\n",
    "def map_rate_category(price_type):\n",
    "    if 'IP' in price_type:\n",
    "        setting = 'inpatient'\n",
    "    elif 'OP' in price_type:\n",
    "        setting = 'outpatient'\n",
    "    else:\n",
    "        setting = 'both'  # Adjust as necessary\n",
    "\n",
    "    if 'Discounted Cash' in price_type:\n",
    "        return setting, 'cash'\n",
    "    elif 'Negotiated Charge' in price_type:\n",
    "        return setting, 'negotiated'\n",
    "    elif 'Minimum' in price_type:\n",
    "        return setting, 'min'\n",
    "    elif 'Maximum' in price_type:\n",
    "        return setting, 'max'\n",
    "    else:\n",
    "        return setting, 'gross'\n",
    "\n",
    "\n",
    "# Update the mapping dictionary\n",
    "mapping = {\n",
    "    'Procedure Description': 'description',\n",
    "    'Rev Code': 'rev_code',\n",
    "    'Code': 'code',\n",
    "    'NDC': 'ndc',\n",
    "    'Payer': 'payer_name',\n",
    "    'Plan(s)': 'plan_name',\n",
    "    'Setting': 'setting',\n",
    "    'Rate_Category': 'rate_category',\n",
    "    'Price': 'standard_charge',\n",
    "    \"Procedure\": \"local_code\"\n",
    "}\n",
    "\n",
    "# Efficient Melt Operation\n",
    "melted_data = data.melt(id_vars=['Procedure', 'Code Type', 'Code', 'NDC', 'Rev Code',\n",
    "                                 'Procedure Description', 'Payer', 'Plan(s)'],\n",
    "                        value_vars=price_columns,\n",
    "                        var_name='Price_Type',\n",
    "                        value_name='Price')\n",
    "\n",
    "# Precompute Mapping for 'Price_Type'\n",
    "price_type_mapping = {price_type: map_rate_category(price_type) for price_type in price_columns}\n",
    "melted_data['Setting'] = melted_data['Price_Type'].map(lambda x: price_type_mapping[x][0])\n",
    "melted_data['Rate_Category'] = melted_data['Price_Type'].map(lambda x: price_type_mapping[x][1])\n",
    "\n",
    "\n",
    "# TODO - Remove price type columns\n",
    "melted_data.drop(columns=[\"Code Type\", \"Price_Type\"], inplace=True)\n",
    "melted_data.rename(columns=mapping, inplace=True)\n",
    "\n"
   ]
  },
  {
   "cell_type": "code",
   "execution_count": null,
   "metadata": {},
   "outputs": [],
   "source": [
    "billing_code = metadata.billing_code\n",
    "melted_data['billing_code'] = melted_data['code'].str.split(' ', n=1, expand=True)[0]\n",
    "unique_billing_code = melted_data['billing_code'].unique()\n",
    "billing_code_mapping = {code: misc.get_best_match(code, billing_code) for code in unique_billing_code}\n",
    "\n",
    "melted_data['billing_code'] = melted_data['billing_code'].map(billing_code_mapping)\n",
    "\n",
    "# Create indicator variables for each billing code\n",
    "billing_code_dummies = pd.get_dummies(melted_data['billing_code'], prefix='Category')\n",
    "\n",
    "# Multiply indicator variables with 'code' column\n",
    "for category in billing_code_dummies.columns:\n",
    "    melted_data[category] = billing_code_dummies[category] * melted_data['code']\n",
    "\n",
    "melted_data.drop(columns=[\"Category_Other\"], inplace=True)"
   ]
  }
 ],
 "metadata": {
  "kernelspec": {
   "display_name": "venv",
   "language": "python",
   "name": "python3"
  },
  "language_info": {
   "codemirror_mode": {
    "name": "ipython",
    "version": 3
   },
   "file_extension": ".py",
   "mimetype": "text/x-python",
   "name": "python",
   "nbconvert_exporter": "python",
   "pygments_lexer": "ipython3",
   "version": "3.9.7"
  }
 },
 "nbformat": 4,
 "nbformat_minor": 2
}
